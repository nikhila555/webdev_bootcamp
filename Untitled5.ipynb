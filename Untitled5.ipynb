{
  "nbformat": 4,
  "nbformat_minor": 0,
  "metadata": {
    "colab": {
      "name": "Untitled5.ipynb",
      "provenance": []
    },
    "kernelspec": {
      "name": "python3",
      "display_name": "Python 3"
    },
    "language_info": {
      "name": "python"
    }
  },
  "cells": [
    {
      "cell_type": "code",
      "metadata": {
        "colab": {
          "base_uri": "https://localhost:8080/"
        },
        "id": "S2H6485aUxXU",
        "outputId": "955dee2d-7bca-4504-d4fa-b770c47f92ff"
      },
      "source": [
        "from google.colab import drive\n",
        "drive.mount('/content/gdrive')"
      ],
      "execution_count": 3,
      "outputs": [
        {
          "output_type": "stream",
          "text": [
            "Drive already mounted at /content/gdrive; to attempt to forcibly remount, call drive.mount(\"/content/gdrive\", force_remount=True).\n"
          ],
          "name": "stdout"
        }
      ]
    },
    {
      "cell_type": "code",
      "metadata": {
        "colab": {
          "base_uri": "https://localhost:8080/"
        },
        "id": "gB5RLMUbWPIr",
        "outputId": "bdfda97a-41cf-4651-defa-67637a689ad8"
      },
      "source": [
        "!ls gdrive/MyDrive\n"
      ],
      "execution_count": 10,
      "outputs": [
        {
          "output_type": "stream",
          "text": [
            "'119ch0075 merged class tests.pdf'\n",
            " 119CH0075_NagireddyNikhila_1.pdf\n",
            " 119CH0075_NagireddyNikhila_2.pdf\n",
            " 5vguc.zip\n",
            " bootcamp_finalproject-main\n",
            " bootcamp_finalproject-main.zip\n",
            "'Colab Notebooks'\n",
            "'Getting started.pdf'\n",
            " gradecard.pdf\n",
            " IMG20200130123234.jpg\n",
            "'mto 1test 119ch0075.pdf'\n",
            "'mto 1test.pdf'\n",
            " NagireddyNikhila_Chemical_B.Tech.pdf\n",
            "'REPLICATION AND TRANSCRIPTION OF DNA IN PROKARYOTES.gdoc'\n",
            "'Students_certificates 137.pdf'\n",
            "'Untitled form.gform'\n",
            " workspace.json\n",
            "/bin/bash: 5vguc: No such file or directory\n"
          ],
          "name": "stdout"
        }
      ]
    },
    {
      "cell_type": "code",
      "metadata": {
        "colab": {
          "base_uri": "https://localhost:8080/"
        },
        "id": "qPWveZU7XdcR",
        "outputId": "e810ca71-6ba1-422f-dc66-ea69f31a3234"
      },
      "source": [
        "!unzip gdrive/MyDrive/5vguc.zip\n"
      ],
      "execution_count": 12,
      "outputs": [
        {
          "output_type": "stream",
          "text": [
            "Archive:  gdrive/MyDrive/5vguc.zip\n",
            "replace package.json? [y]es, [n]o, [A]ll, [N]one, [r]ename: n\n",
            "replace src/index.js? [y]es, [n]o, [A]ll, [N]one, [r]ename: n\n",
            "replace public/styles.css? [y]es, [n]o, [A]ll, [N]one, [r]ename: n\n",
            "replace public/index.html? [y]es, [n]o, [A]ll, [N]one, [r]ename: n\n",
            "replace .codesandbox/workspace.json? [y]es, [n]o, [A]ll, [N]one, [r]ename: n\n",
            "replace src/components/App.jsx? [y]es, [n]o, [A]ll, [N]one, [r]ename: n\n",
            "replace src/components/Header.jsx? [y]es, [n]o, [A]ll, [N]one, [r]ename: n\n",
            "replace src/components/Footer.jsx? [y]es, [n]o, [A]ll, [N]one, [r]ename: n\n",
            "replace src/components/Boot.jsx? [y]es, [n]o, [A]ll, [N]one, [r]ename: n\n"
          ],
          "name": "stdout"
        }
      ]
    }
  ]
}